!pip install --upgrade --force-reinstall numpy gensim

import gensim.downloader as api

# Load pre-trained model
model = api.load("glove-wiki-gigaword-50")

# Example words
word1 = "king"
word2 = "man"
word3 = "woman"

# Performing vector arithmetic
result_vector = model[word1] - model[word2] + model[word3]

# Finding the most similar words to the result vector
predicted_word = model.most_similar([result_vector], topn=2)

print(f"Result of '{word1} - {word2} + {word3}' is: {predicted_word[1][0]}")
